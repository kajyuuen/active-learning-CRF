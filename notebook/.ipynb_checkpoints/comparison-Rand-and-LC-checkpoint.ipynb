{
 "cells": [
  {
   "cell_type": "code",
   "execution_count": 12,
   "metadata": {},
   "outputs": [
    {
     "name": "stdout",
     "output_type": "stream",
     "text": [
      "Populating the interactive namespace from numpy and matplotlib\n"
     ]
    }
   ],
   "source": [
    "import sys\n",
    "sys.path.append('../src')\n",
    "import argparse\n",
    "from operator import itemgetter\n",
    "import nltk\n",
    "from features import sent2labels, sent2features\n",
    "from active_learning_model import ALModel\n",
    "from random_sampling_model import RSModel\n",
    "import matplotlib.pyplot as plt\n",
    "import numpy as np\n",
    "%pylab inline --no-import-all"
   ]
  },
  {
   "cell_type": "code",
   "execution_count": 2,
   "metadata": {
    "collapsed": true
   },
   "outputs": [],
   "source": [
    "labeled_size = 10\n",
    "pool_size = -1 * labeled_size - 1\n",
    "test_size = -1"
   ]
  },
  {
   "cell_type": "code",
   "execution_count": 9,
   "metadata": {},
   "outputs": [],
   "source": [
    "# Create Dataset\n",
    "labeled_sents = list(nltk.corpus.conll2002.iob_sents('esp.train'))[0:labeled_size]\n",
    "pool_sents = list(nltk.corpus.conll2002.iob_sents('esp.train'))[labeled_size:labeled_size+pool_size]\n",
    "test_sents = list(nltk.corpus.conll2002.iob_sents('esp.testb'))[0:test_size]\n",
    "\n",
    "# Convert sentence to features\n",
    "X_labeled = [sent2features(s) for s in labeled_sents]\n",
    "y_labeled = [sent2labels(s) for s in labeled_sents]\n",
    "X_pool = [sent2features(s) for s in pool_sents]\n",
    "y_pool = [sent2labels(s) for s in pool_sents]\n",
    "X_test = [sent2features(s) for s in test_sents]\n",
    "y_test = [sent2labels(s) for s in test_sents]\n",
    "\n",
    "# Training\n",
    "al_model = ALModel(X_labeled, y_labeled, X_pool, y_pool, 5)\n",
    "rs_model = RSModel(X_labeled, y_labeled, X_pool, y_pool, 5)\n",
    "\n",
    "al_score = []\n",
    "rs_score = []\n",
    "al_score.append(al_model.evaluation(X_test, y_test))\n",
    "rs_score.append(rs_model.evaluation(X_test, y_test))\n",
    "for _ in range(50):\n",
    "    al_model.query_selection()\n",
    "    al_model.fit()\n",
    "    al_score.append(al_model.evaluation(X_test, y_test))\n",
    "    rs_model.query_selection()\n",
    "    rs_model.fit()\n",
    "    rs_score.append(rs_model.evaluation(X_test, y_test))"
   ]
  },
  {
   "cell_type": "code",
   "execution_count": 24,
   "metadata": {},
   "outputs": [
    {
     "data": {
      "text/plain": [
       "<matplotlib.legend.Legend at 0x7f55bfce80f0>"
      ]
     },
     "execution_count": 24,
     "metadata": {},
     "output_type": "execute_result"
    },
    {
     "data": {
      "image/png": "[encoded data removed]",
      "text/plain": [
       "<matplotlib.figure.Figure at 0x7f55bfd87c50>"
      ]
     },
     "metadata": {},
     "output_type": "display_data"
    }
   ],
   "source": [
    "left = np.arange(51) * 5\n",
    "p1 = plt.plot(left, al_score)\n",
    "p2 = plt.plot(left, rs_score)\n",
    "plt.legend((p1[0], p2[0]), (\"Active Learning\", \"Random\"), loc=4)"
   ]
  }
 ],
 "metadata": {
  "kernelspec": {
   "display_name": "Python 3",
   "language": "python",
   "name": "python3"
  },
  "language_info": {
   "codemirror_mode": {
    "name": "ipython",
    "version": 3
   },
   "file_extension": ".py",
   "mimetype": "text/x-python",
   "name": "python",
   "nbconvert_exporter": "python",
   "pygments_lexer": "ipython3",
   "version": "3.6.3"
  }
 },
 "nbformat": 4,
 "nbformat_minor": 2
}
