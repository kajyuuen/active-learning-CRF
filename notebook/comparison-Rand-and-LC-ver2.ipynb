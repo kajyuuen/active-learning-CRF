{
 "cells": [
  {
   "cell_type": "code",
   "execution_count": 11,
   "metadata": {},
   "outputs": [
    {
     "name": "stdout",
     "output_type": "stream",
     "text": [
      "Populating the interactive namespace from numpy and matplotlib\n"
     ]
    }
   ],
   "source": [
    "import sys\n",
    "import random\n",
    "sys.path.append('../src')\n",
    "import argparse\n",
    "from operator import itemgetter\n",
    "import nltk\n",
    "from features import sent2labels, sent2features\n",
    "from active_learning_model import ALModel\n",
    "from random_sampling_model import RSModel\n",
    "import matplotlib.pyplot as plt\n",
    "import numpy as np\n",
    "import import_conll2003\n",
    "%pylab inline --no-import-all"
   ]
  },
  {
   "cell_type": "code",
   "execution_count": 3,
   "metadata": {},
   "outputs": [
    {
     "name": "stdout",
     "output_type": "stream",
     "text": [
      "[nltk_data] Downloading package conll2002 to /root/nltk_data...\n",
      "[nltk_data]   Unzipping corpora/conll2002.zip.\n"
     ]
    },
    {
     "data": {
      "text/plain": [
       "True"
      ]
     },
     "execution_count": 3,
     "metadata": {},
     "output_type": "execute_result"
    }
   ],
   "source": [
    "nltk.download(\"conll2002\")"
   ]
  },
  {
   "cell_type": "code",
   "execution_count": 15,
   "metadata": {
    "collapsed": true
   },
   "outputs": [],
   "source": [
    "labeled_size = 10\n",
    "pool_size = int(len(list(import_conll2003.iob_sents('../data/eng.train')))/5)\n",
    "test_size = int(len(list(import_conll2003.iob_sents('../data/eng.testb')))/5)"
   ]
  },
  {
   "cell_type": "code",
   "execution_count": 21,
   "metadata": {},
   "outputs": [],
   "source": [
    "# Create Dataset\n",
    "labeled_sents = random.sample(list(import_conll2003.iob_sents('../data/eng.testa')), labeled_size)\n",
    "pool_sents = random.sample(list(import_conll2003.iob_sents('../data/eng.train')), pool_size)\n",
    "test_sents = random.sample(list(import_conll2003.iob_sents('../data/eng.testb')), test_size)"
   ]
  },
  {
   "cell_type": "code",
   "execution_count": null,
   "metadata": {},
   "outputs": [],
   "source": [
    "# Convert sentence to features\n",
    "X_labeled = [sent2features(s) for s in labeled_sents]\n",
    "y_labeled = [sent2labels(s) for s in labeled_sents]\n",
    "X_pool = [sent2features(s) for s in pool_sents]\n",
    "y_pool = [sent2labels(s) for s in pool_sents]\n",
    "X_test = [sent2features(s) for s in test_sents]\n",
    "y_test = [sent2labels(s) for s in test_sents]\n",
    "\n",
    "# Training\n",
    "al_model = ALModel(X_labeled, y_labeled, X_pool, y_pool, 5)\n",
    "rs_model = RSModel(X_labeled, y_labeled, X_pool, y_pool, 5)\n",
    "\n",
    "al_score = []\n",
    "rs_score = []\n",
    "al_score.append(al_model.evaluation(X_test, y_test))\n",
    "rs_score.append(rs_model.evaluation(X_test, y_test))\n",
    "for _ in range(50):\n",
    "    al_model.query_selection()\n",
    "    al_model.fit()\n",
    "    al_score.append(al_model.evaluation(X_test, y_test))\n",
    "    rs_model.query_selection()\n",
    "    rs_model.fit()\n",
    "    rs_score.append(rs_model.evaluation(X_test, y_test))"
   ]
  },
  {
   "cell_type": "code",
   "execution_count": 19,
   "metadata": {},
   "outputs": [
    {
     "data": {
      "text/plain": [
       "<matplotlib.legend.Legend at 0x7fdfbc88f048>"
      ]
     },
     "execution_count": 19,
     "metadata": {},
     "output_type": "execute_result"
    },
    {
     "data": {
      "image/png": "[encoded data removed]",
      "text/plain": [
       "<matplotlib.figure.Figure at 0x7fdfbc8b3e80>"
      ]
     },
     "metadata": {},
     "output_type": "display_data"
    }
   ],
   "source": [
    "left = np.arange(len(rs_score)) * 5\n",
    "p1 = plt.plot(left, al_score)\n",
    "p2 = plt.plot(left, rs_score)\n",
    "plt.legend((p1[0], p2[0]), (\"Active Learning\", \"Random\"), loc=4)"
   ]
  }
 ],
 "metadata": {
  "kernelspec": {
   "display_name": "Python 3",
   "language": "python",
   "name": "python3"
  },
  "language_info": {
   "codemirror_mode": {
    "name": "ipython",
    "version": 3
   },
   "file_extension": ".py",
   "mimetype": "text/x-python",
   "name": "python",
   "nbconvert_exporter": "python",
   "pygments_lexer": "ipython3",
   "version": "3.6.3"
  }
 },
 "nbformat": 4,
 "nbformat_minor": 2
}
